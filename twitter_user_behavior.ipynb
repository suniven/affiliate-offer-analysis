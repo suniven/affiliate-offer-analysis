{
 "cells": [
  {
   "cell_type": "code",
   "execution_count": 1,
   "metadata": {},
   "outputs": [
    {
     "data": {
      "text/plain": [
       "131072"
      ]
     },
     "execution_count": 1,
     "metadata": {},
     "output_type": "execute_result"
    }
   ],
   "source": [
    "import pandas as pd\n",
    "import csv\n",
    "pd.set_option(\"display.max_columns\", None)\n",
    "pd.set_option(\"display.max_rows\", 50)\n",
    "csv.field_size_limit(500 * 1024 * 1024)"
   ]
  },
  {
   "cell_type": "code",
   "execution_count": 11,
   "metadata": {},
   "outputs": [],
   "source": [
    "df_twitter = pd.read_csv('./1006/twitter_affiliate_tweets.csv', engine = 'python')"
   ]
  },
  {
   "cell_type": "code",
   "execution_count": 12,
   "metadata": {},
   "outputs": [
    {
     "data": {
      "text/html": [
       "<div>\n",
       "<style scoped>\n",
       "    .dataframe tbody tr th:only-of-type {\n",
       "        vertical-align: middle;\n",
       "    }\n",
       "\n",
       "    .dataframe tbody tr th {\n",
       "        vertical-align: top;\n",
       "    }\n",
       "\n",
       "    .dataframe thead th {\n",
       "        text-align: right;\n",
       "    }\n",
       "</style>\n",
       "<table border=\"1\" class=\"dataframe\">\n",
       "  <thead>\n",
       "    <tr style=\"text-align: right;\">\n",
       "      <th></th>\n",
       "      <th>tweet</th>\n",
       "      <th>user</th>\n",
       "      <th>date</th>\n",
       "      <th>search</th>\n",
       "      <th>urls</th>\n",
       "      <th>isAffiliate</th>\n",
       "      <th>affiliate_url_count</th>\n",
       "    </tr>\n",
       "  </thead>\n",
       "  <tbody>\n",
       "    <tr>\n",
       "      <th>0</th>\n",
       "      <td>Addiction and Mental Health Treatment - 1-866-...</td>\n",
       "      <td>https://twitter.com/addictionquoter</td>\n",
       "      <td>2022-07-14 04:19:34+00:00</td>\n",
       "      <td>addiction</td>\n",
       "      <td>['https://t.co/bPY9dVe8NC', 'https://t.co/6xAt...</td>\n",
       "      <td>1</td>\n",
       "      <td>1</td>\n",
       "    </tr>\n",
       "    <tr>\n",
       "      <th>1</th>\n",
       "      <td>라필루스 데뷔곡  HIT YA  떼창 열풍넘치는 중독성 Rapilus debut s...</td>\n",
       "      <td>https://twitter.com/yeonye4</td>\n",
       "      <td>2022-07-14 04:09:18+00:00</td>\n",
       "      <td>addiction</td>\n",
       "      <td>['https://t.co/tdXVc3Ha1E']</td>\n",
       "      <td>1</td>\n",
       "      <td>1</td>\n",
       "    </tr>\n",
       "    <tr>\n",
       "      <th>2</th>\n",
       "      <td>NCB charges Rhea Chakraborty with abetting Sus...</td>\n",
       "      <td>https://twitter.com/sawhneyrohit9</td>\n",
       "      <td>2022-07-14 03:42:54+00:00</td>\n",
       "      <td>addiction</td>\n",
       "      <td>['https://t.co/leteLQnBpu']</td>\n",
       "      <td>1</td>\n",
       "      <td>1</td>\n",
       "    </tr>\n",
       "    <tr>\n",
       "      <th>3</th>\n",
       "      <td>Rev. Kenneth McCoy tends to his congregation i...</td>\n",
       "      <td>https://twitter.com/stlpublicradio</td>\n",
       "      <td>2022-07-14 03:31:01+00:00</td>\n",
       "      <td>addiction</td>\n",
       "      <td>['https://t.co/6GFnJt6ocD']</td>\n",
       "      <td>1</td>\n",
       "      <td>1</td>\n",
       "    </tr>\n",
       "    <tr>\n",
       "      <th>4</th>\n",
       "      <td>Addiction and Mental Health Treatment - 1-866-...</td>\n",
       "      <td>https://twitter.com/addictionquoter</td>\n",
       "      <td>2022-07-14 03:25:20+00:00</td>\n",
       "      <td>addiction</td>\n",
       "      <td>['https://t.co/nsKgHeB9z0', 'https://t.co/6da1...</td>\n",
       "      <td>1</td>\n",
       "      <td>1</td>\n",
       "    </tr>\n",
       "    <tr>\n",
       "      <th>...</th>\n",
       "      <td>...</td>\n",
       "      <td>...</td>\n",
       "      <td>...</td>\n",
       "      <td>...</td>\n",
       "      <td>...</td>\n",
       "      <td>...</td>\n",
       "      <td>...</td>\n",
       "    </tr>\n",
       "    <tr>\n",
       "      <th>12293</th>\n",
       "      <td>Whitni Thomas explains Triodos' social investm...</td>\n",
       "      <td>https://twitter.com/SocInv_SmChange</td>\n",
       "      <td>2022-07-11 13:26:48+00:00</td>\n",
       "      <td>Investment</td>\n",
       "      <td>['https://t.co/fAgW41aDes']</td>\n",
       "      <td>1</td>\n",
       "      <td>1</td>\n",
       "    </tr>\n",
       "    <tr>\n",
       "      <th>12294</th>\n",
       "      <td>Stay ahead of the curve as TechCrunch editors ...</td>\n",
       "      <td>https://twitter.com/_DrFrusci</td>\n",
       "      <td>2022-07-11 13:26:03+00:00</td>\n",
       "      <td>Investment</td>\n",
       "      <td>['https://t.co/0qqUoTM6Gw']</td>\n",
       "      <td>1</td>\n",
       "      <td>1</td>\n",
       "    </tr>\n",
       "    <tr>\n",
       "      <th>12295</th>\n",
       "      <td>How to Maximize #Rental #Property #Investments...</td>\n",
       "      <td>https://twitter.com/handsonreinvest</td>\n",
       "      <td>2022-07-11 13:25:18+00:00</td>\n",
       "      <td>Investment</td>\n",
       "      <td>['https://t.co/tOxSAqFR7y', 'https://t.co/3N6U...</td>\n",
       "      <td>1</td>\n",
       "      <td>1</td>\n",
       "    </tr>\n",
       "    <tr>\n",
       "      <th>12296</th>\n",
       "      <td>Marathon Digital Holdings Inc MARA Investment ...</td>\n",
       "      <td>https://twitter.com/marketcycles</td>\n",
       "      <td>2022-07-11 13:25:06+00:00</td>\n",
       "      <td>Investment</td>\n",
       "      <td>['https://t.co/hdvH4a26km']</td>\n",
       "      <td>1</td>\n",
       "      <td>1</td>\n",
       "    </tr>\n",
       "    <tr>\n",
       "      <th>12297</th>\n",
       "      <td>Novum Orthopedic Partners Expands Its Physicia...</td>\n",
       "      <td>https://twitter.com/NewsFromBW</td>\n",
       "      <td>2022-07-11 13:25:05+00:00</td>\n",
       "      <td>Investment</td>\n",
       "      <td>['https://t.co/s78M2Rbuha', 'https://t.co/kAh3...</td>\n",
       "      <td>1</td>\n",
       "      <td>1</td>\n",
       "    </tr>\n",
       "  </tbody>\n",
       "</table>\n",
       "<p>12298 rows × 7 columns</p>\n",
       "</div>"
      ],
      "text/plain": [
       "                                                   tweet  \\\n",
       "0      Addiction and Mental Health Treatment - 1-866-...   \n",
       "1      라필루스 데뷔곡  HIT YA  떼창 열풍넘치는 중독성 Rapilus debut s...   \n",
       "2      NCB charges Rhea Chakraborty with abetting Sus...   \n",
       "3      Rev. Kenneth McCoy tends to his congregation i...   \n",
       "4      Addiction and Mental Health Treatment - 1-866-...   \n",
       "...                                                  ...   \n",
       "12293  Whitni Thomas explains Triodos' social investm...   \n",
       "12294  Stay ahead of the curve as TechCrunch editors ...   \n",
       "12295  How to Maximize #Rental #Property #Investments...   \n",
       "12296  Marathon Digital Holdings Inc MARA Investment ...   \n",
       "12297  Novum Orthopedic Partners Expands Its Physicia...   \n",
       "\n",
       "                                      user                       date  \\\n",
       "0      https://twitter.com/addictionquoter  2022-07-14 04:19:34+00:00   \n",
       "1              https://twitter.com/yeonye4  2022-07-14 04:09:18+00:00   \n",
       "2        https://twitter.com/sawhneyrohit9  2022-07-14 03:42:54+00:00   \n",
       "3       https://twitter.com/stlpublicradio  2022-07-14 03:31:01+00:00   \n",
       "4      https://twitter.com/addictionquoter  2022-07-14 03:25:20+00:00   \n",
       "...                                    ...                        ...   \n",
       "12293  https://twitter.com/SocInv_SmChange  2022-07-11 13:26:48+00:00   \n",
       "12294        https://twitter.com/_DrFrusci  2022-07-11 13:26:03+00:00   \n",
       "12295  https://twitter.com/handsonreinvest  2022-07-11 13:25:18+00:00   \n",
       "12296     https://twitter.com/marketcycles  2022-07-11 13:25:06+00:00   \n",
       "12297       https://twitter.com/NewsFromBW  2022-07-11 13:25:05+00:00   \n",
       "\n",
       "           search                                               urls  \\\n",
       "0       addiction  ['https://t.co/bPY9dVe8NC', 'https://t.co/6xAt...   \n",
       "1       addiction                        ['https://t.co/tdXVc3Ha1E']   \n",
       "2       addiction                        ['https://t.co/leteLQnBpu']   \n",
       "3       addiction                        ['https://t.co/6GFnJt6ocD']   \n",
       "4       addiction  ['https://t.co/nsKgHeB9z0', 'https://t.co/6da1...   \n",
       "...           ...                                                ...   \n",
       "12293  Investment                        ['https://t.co/fAgW41aDes']   \n",
       "12294  Investment                        ['https://t.co/0qqUoTM6Gw']   \n",
       "12295  Investment  ['https://t.co/tOxSAqFR7y', 'https://t.co/3N6U...   \n",
       "12296  Investment                        ['https://t.co/hdvH4a26km']   \n",
       "12297  Investment  ['https://t.co/s78M2Rbuha', 'https://t.co/kAh3...   \n",
       "\n",
       "       isAffiliate  affiliate_url_count  \n",
       "0                1                    1  \n",
       "1                1                    1  \n",
       "2                1                    1  \n",
       "3                1                    1  \n",
       "4                1                    1  \n",
       "...            ...                  ...  \n",
       "12293            1                    1  \n",
       "12294            1                    1  \n",
       "12295            1                    1  \n",
       "12296            1                    1  \n",
       "12297            1                    1  \n",
       "\n",
       "[12298 rows x 7 columns]"
      ]
     },
     "execution_count": 12,
     "metadata": {},
     "output_type": "execute_result"
    }
   ],
   "source": [
    "df_twitter"
   ]
  },
  {
   "cell_type": "code",
   "execution_count": 5,
   "metadata": {},
   "outputs": [],
   "source": [
    "# df_twitter = df_twitter.reindex(columns = df_twitter.columns.to_list() + ['affiliate_url_count'])\n",
    "# df_twitter.affiliate_url_count = 0"
   ]
  },
  {
   "cell_type": "code",
   "execution_count": 6,
   "metadata": {},
   "outputs": [],
   "source": [
    "# df = pd.read_csv('./1006/twitter_results_0915.csv', engine = 'python')"
   ]
  },
  {
   "cell_type": "code",
   "execution_count": 7,
   "metadata": {},
   "outputs": [],
   "source": [
    "# twitter_affiliate_url_list = list(set(df[df['isAffiliateLink'] == 1].url.to_list()))"
   ]
  },
  {
   "cell_type": "code",
   "execution_count": 8,
   "metadata": {},
   "outputs": [
    {
     "name": "stderr",
     "output_type": "stream",
     "text": [
      "100%|██████████| 12298/12298 [00:05<00:00, 2132.66it/s]\n"
     ]
    }
   ],
   "source": [
    "# from tqdm import tqdm\n",
    "# import ast\n",
    "\n",
    "# for i in tqdm(range(len(df_twitter))):\n",
    "#     count = 0\n",
    "#     for url in ast.literal_eval(df_twitter.loc[i, 'urls']):\n",
    "#         if url in twitter_affiliate_url_list:\n",
    "#             count+=1\n",
    "#     df_twitter.loc[i, 'affiliate_url_count'] = count"
   ]
  },
  {
   "cell_type": "code",
   "execution_count": 10,
   "metadata": {},
   "outputs": [],
   "source": [
    "# df_twitter.to_csv('./1006/twitter_affiliate_tweets.csv', index = False)"
   ]
  }
 ],
 "metadata": {
  "kernelspec": {
   "display_name": "Python 3.7.10 ('py37')",
   "language": "python",
   "name": "python3"
  },
  "language_info": {
   "codemirror_mode": {
    "name": "ipython",
    "version": 3
   },
   "file_extension": ".py",
   "mimetype": "text/x-python",
   "name": "python",
   "nbconvert_exporter": "python",
   "pygments_lexer": "ipython3",
   "version": "3.7.10"
  },
  "orig_nbformat": 4,
  "vscode": {
   "interpreter": {
    "hash": "1084607fb1ec85c20c00d1b5b4f2e0b7627b79be1f5395c4e028471685aafe8c"
   }
  }
 },
 "nbformat": 4,
 "nbformat_minor": 2
}
