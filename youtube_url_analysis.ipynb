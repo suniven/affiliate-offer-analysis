{
 "cells": [
  {
   "cell_type": "code",
   "execution_count": 10,
   "metadata": {},
   "outputs": [
    {
     "data": {
      "text/plain": [
       "524288000"
      ]
     },
     "execution_count": 10,
     "metadata": {},
     "output_type": "execute_result"
    }
   ],
   "source": [
    "import pandas as pd\n",
    "import csv\n",
    "pd.set_option(\"display.max_columns\", None)\n",
    "pd.set_option(\"display.max_rows\", 20)\n",
    "csv.field_size_limit(500 * 1024 * 1024)"
   ]
  },
  {
   "cell_type": "code",
   "execution_count": 6,
   "metadata": {},
   "outputs": [],
   "source": [
    "df = pd.read_csv('./1006/youtube_all_affiliate_url.csv', engine = 'python')"
   ]
  },
  {
   "cell_type": "code",
   "execution_count": 16,
   "metadata": {},
   "outputs": [
    {
     "data": {
      "text/html": [
       "<div>\n",
       "<style scoped>\n",
       "    .dataframe tbody tr th:only-of-type {\n",
       "        vertical-align: middle;\n",
       "    }\n",
       "\n",
       "    .dataframe tbody tr th {\n",
       "        vertical-align: top;\n",
       "    }\n",
       "\n",
       "    .dataframe thead th {\n",
       "        text-align: right;\n",
       "    }\n",
       "</style>\n",
       "<table border=\"1\" class=\"dataframe\">\n",
       "  <thead>\n",
       "    <tr style=\"text-align: right;\">\n",
       "      <th></th>\n",
       "      <th>url</th>\n",
       "      <th>landing_page</th>\n",
       "      <th>landing_page_domain</th>\n",
       "      <th>isAffiliate</th>\n",
       "      <th>offer_title</th>\n",
       "      <th>offer_category</th>\n",
       "      <th>offer_payout</th>\n",
       "    </tr>\n",
       "  </thead>\n",
       "  <tbody>\n",
       "    <tr>\n",
       "      <th>2852</th>\n",
       "      <td>https://metabella.pokmi.com/?utm_source=linktr...</td>\n",
       "      <td>NaN</td>\n",
       "      <td>NaN</td>\n",
       "      <td>1</td>\n",
       "      <td>NaN</td>\n",
       "      <td>NaN</td>\n",
       "      <td>NaN</td>\n",
       "    </tr>\n",
       "    <tr>\n",
       "      <th>7617</th>\n",
       "      <td>https://newyear2020.moba.garena.vn/lucky/MHY4K...</td>\n",
       "      <td>NaN</td>\n",
       "      <td>NaN</td>\n",
       "      <td>1</td>\n",
       "      <td>NaN</td>\n",
       "      <td>NaN</td>\n",
       "      <td>NaN</td>\n",
       "    </tr>\n",
       "    <tr>\n",
       "      <th>7618</th>\n",
       "      <td>https://newyear2020.moba.garena.vn/lucky/K4JP3...</td>\n",
       "      <td>NaN</td>\n",
       "      <td>NaN</td>\n",
       "      <td>1</td>\n",
       "      <td>NaN</td>\n",
       "      <td>NaN</td>\n",
       "      <td>NaN</td>\n",
       "    </tr>\n",
       "    <tr>\n",
       "      <th>7619</th>\n",
       "      <td>https://newyear2020.moba.garena.vn/lucky/FCDM3...</td>\n",
       "      <td>NaN</td>\n",
       "      <td>NaN</td>\n",
       "      <td>1</td>\n",
       "      <td>NaN</td>\n",
       "      <td>NaN</td>\n",
       "      <td>NaN</td>\n",
       "    </tr>\n",
       "    <tr>\n",
       "      <th>7620</th>\n",
       "      <td>https://newyear2020.moba.garena.vn/lucky/K0ADU...</td>\n",
       "      <td>NaN</td>\n",
       "      <td>NaN</td>\n",
       "      <td>1</td>\n",
       "      <td>NaN</td>\n",
       "      <td>NaN</td>\n",
       "      <td>NaN</td>\n",
       "    </tr>\n",
       "    <tr>\n",
       "      <th>...</th>\n",
       "      <td>...</td>\n",
       "      <td>...</td>\n",
       "      <td>...</td>\n",
       "      <td>...</td>\n",
       "      <td>...</td>\n",
       "      <td>...</td>\n",
       "      <td>...</td>\n",
       "    </tr>\n",
       "    <tr>\n",
       "      <th>24983</th>\n",
       "      <td>https://www.domestika.org/es/courses/area/184-...</td>\n",
       "      <td>NaN</td>\n",
       "      <td>NaN</td>\n",
       "      <td>1</td>\n",
       "      <td>NaN</td>\n",
       "      <td>NaN</td>\n",
       "      <td>NaN</td>\n",
       "    </tr>\n",
       "    <tr>\n",
       "      <th>24990</th>\n",
       "      <td>https://www.elearnmarkets.com/courses/display/...</td>\n",
       "      <td>NaN</td>\n",
       "      <td>NaN</td>\n",
       "      <td>1</td>\n",
       "      <td>NaN</td>\n",
       "      <td>NaN</td>\n",
       "      <td>NaN</td>\n",
       "    </tr>\n",
       "    <tr>\n",
       "      <th>25191</th>\n",
       "      <td>https://labombonadiving.com/5off?aff_id=605060</td>\n",
       "      <td>NaN</td>\n",
       "      <td>NaN</td>\n",
       "      <td>1</td>\n",
       "      <td>NaN</td>\n",
       "      <td>NaN</td>\n",
       "      <td>NaN</td>\n",
       "    </tr>\n",
       "    <tr>\n",
       "      <th>25216</th>\n",
       "      <td>https://blog.openlearning.com/openlearningport...</td>\n",
       "      <td>NaN</td>\n",
       "      <td>NaN</td>\n",
       "      <td>1</td>\n",
       "      <td>NaN</td>\n",
       "      <td>NaN</td>\n",
       "      <td>NaN</td>\n",
       "    </tr>\n",
       "    <tr>\n",
       "      <th>26657</th>\n",
       "      <td>https://boschtradeupcontest.com/?utm_source=ne...</td>\n",
       "      <td>NaN</td>\n",
       "      <td>NaN</td>\n",
       "      <td>1</td>\n",
       "      <td>NaN</td>\n",
       "      <td>NaN</td>\n",
       "      <td>NaN</td>\n",
       "    </tr>\n",
       "  </tbody>\n",
       "</table>\n",
       "<p>40 rows × 7 columns</p>\n",
       "</div>"
      ],
      "text/plain": [
       "                                                     url landing_page  \\\n",
       "2852   https://metabella.pokmi.com/?utm_source=linktr...          NaN   \n",
       "7617   https://newyear2020.moba.garena.vn/lucky/MHY4K...          NaN   \n",
       "7618   https://newyear2020.moba.garena.vn/lucky/K4JP3...          NaN   \n",
       "7619   https://newyear2020.moba.garena.vn/lucky/FCDM3...          NaN   \n",
       "7620   https://newyear2020.moba.garena.vn/lucky/K0ADU...          NaN   \n",
       "...                                                  ...          ...   \n",
       "24983  https://www.domestika.org/es/courses/area/184-...          NaN   \n",
       "24990  https://www.elearnmarkets.com/courses/display/...          NaN   \n",
       "25191     https://labombonadiving.com/5off?aff_id=605060          NaN   \n",
       "25216  https://blog.openlearning.com/openlearningport...          NaN   \n",
       "26657  https://boschtradeupcontest.com/?utm_source=ne...          NaN   \n",
       "\n",
       "      landing_page_domain  isAffiliate  offer_title offer_category  \\\n",
       "2852                  NaN            1          NaN            NaN   \n",
       "7617                  NaN            1          NaN            NaN   \n",
       "7618                  NaN            1          NaN            NaN   \n",
       "7619                  NaN            1          NaN            NaN   \n",
       "7620                  NaN            1          NaN            NaN   \n",
       "...                   ...          ...          ...            ...   \n",
       "24983                 NaN            1          NaN            NaN   \n",
       "24990                 NaN            1          NaN            NaN   \n",
       "25191                 NaN            1          NaN            NaN   \n",
       "25216                 NaN            1          NaN            NaN   \n",
       "26657                 NaN            1          NaN            NaN   \n",
       "\n",
       "       offer_payout  \n",
       "2852            NaN  \n",
       "7617            NaN  \n",
       "7618            NaN  \n",
       "7619            NaN  \n",
       "7620            NaN  \n",
       "...             ...  \n",
       "24983           NaN  \n",
       "24990           NaN  \n",
       "25191           NaN  \n",
       "25216           NaN  \n",
       "26657           NaN  \n",
       "\n",
       "[40 rows x 7 columns]"
      ]
     },
     "execution_count": 16,
     "metadata": {},
     "output_type": "execute_result"
    }
   ],
   "source": [
    "df[df['landing_page_domain'].isna()]"
   ]
  },
  {
   "cell_type": "code",
   "execution_count": 13,
   "metadata": {},
   "outputs": [
    {
     "data": {
      "text/plain": [
       "www.amazon.in            4384\n",
       "www.amazon.com           3310\n",
       "www.edureka.co           1547\n",
       "www.mobilefun.co.uk      1443\n",
       "www.jpcycles.com         1270\n",
       "www.cult.fit             1032\n",
       "promo.nj.betmgm.com       964\n",
       "www.bybit.com             951\n",
       "shopee.co.id              663\n",
       "www.pccomponentes.com     495\n",
       "Name: landing_page_domain, dtype: int64"
      ]
     },
     "execution_count": 13,
     "metadata": {},
     "output_type": "execute_result"
    }
   ],
   "source": [
    "df.landing_page_domain.value_counts().head(10)"
   ]
  },
  {
   "cell_type": "code",
   "execution_count": 17,
   "metadata": {},
   "outputs": [
    {
     "data": {
      "text/plain": [
       "7830"
      ]
     },
     "execution_count": 17,
     "metadata": {},
     "output_type": "execute_result"
    }
   ],
   "source": [
    "df[(~df['landing_page_domain'].isna()) & (df['landing_page_domain'].str.contains('amazon'))].shape[0]"
   ]
  }
 ],
 "metadata": {
  "kernelspec": {
   "display_name": "Python 3.7.10 ('py37')",
   "language": "python",
   "name": "python3"
  },
  "language_info": {
   "codemirror_mode": {
    "name": "ipython",
    "version": 3
   },
   "file_extension": ".py",
   "mimetype": "text/x-python",
   "name": "python",
   "nbconvert_exporter": "python",
   "pygments_lexer": "ipython3",
   "version": "3.7.10"
  },
  "orig_nbformat": 4,
  "vscode": {
   "interpreter": {
    "hash": "1084607fb1ec85c20c00d1b5b4f2e0b7627b79be1f5395c4e028471685aafe8c"
   }
  }
 },
 "nbformat": 4,
 "nbformat_minor": 2
}
