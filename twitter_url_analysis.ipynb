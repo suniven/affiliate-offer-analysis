{
 "cells": [
  {
   "cell_type": "code",
   "execution_count": 13,
   "metadata": {},
   "outputs": [
    {
     "data": {
      "text/plain": [
       "524288000"
      ]
     },
     "execution_count": 13,
     "metadata": {},
     "output_type": "execute_result"
    }
   ],
   "source": [
    "import pandas as pd\n",
    "import csv\n",
    "pd.set_option(\"display.max_columns\", None)\n",
    "pd.set_option(\"display.max_rows\", 20)\n",
    "csv.field_size_limit(500 * 1024 * 1024)"
   ]
  },
  {
   "cell_type": "code",
   "execution_count": 19,
   "metadata": {},
   "outputs": [],
   "source": [
    "df = pd.read_csv('./1006/twitter_all_affiliate_url.csv', engine = 'python')"
   ]
  },
  {
   "cell_type": "code",
   "execution_count": 20,
   "metadata": {},
   "outputs": [
    {
     "data": {
      "text/html": [
       "<div>\n",
       "<style scoped>\n",
       "    .dataframe tbody tr th:only-of-type {\n",
       "        vertical-align: middle;\n",
       "    }\n",
       "\n",
       "    .dataframe tbody tr th {\n",
       "        vertical-align: top;\n",
       "    }\n",
       "\n",
       "    .dataframe thead th {\n",
       "        text-align: right;\n",
       "    }\n",
       "</style>\n",
       "<table border=\"1\" class=\"dataframe\">\n",
       "  <thead>\n",
       "    <tr style=\"text-align: right;\">\n",
       "      <th></th>\n",
       "      <th>url</th>\n",
       "      <th>landing_page</th>\n",
       "      <th>landing_page_domain</th>\n",
       "      <th>isAffiliate</th>\n",
       "      <th>offer_title</th>\n",
       "      <th>offer_category</th>\n",
       "      <th>offer_payout</th>\n",
       "    </tr>\n",
       "  </thead>\n",
       "  <tbody>\n",
       "    <tr>\n",
       "      <th>0</th>\n",
       "      <td>https://t.co/bPY9dVe8NC</td>\n",
       "      <td>https://quotesaboutaddiction.com/our-daily-pub...</td>\n",
       "      <td>quotesaboutaddiction.com</td>\n",
       "      <td>1</td>\n",
       "      <td>NaN</td>\n",
       "      <td>NaN</td>\n",
       "      <td>NaN</td>\n",
       "    </tr>\n",
       "    <tr>\n",
       "      <th>1</th>\n",
       "      <td>https://t.co/tdXVc3Ha1E</td>\n",
       "      <td>http://m.newspic.kr/view.html?nid=202207141140...</td>\n",
       "      <td>m.newspic.kr</td>\n",
       "      <td>1</td>\n",
       "      <td>NaN</td>\n",
       "      <td>NaN</td>\n",
       "      <td>NaN</td>\n",
       "    </tr>\n",
       "    <tr>\n",
       "      <th>2</th>\n",
       "      <td>https://t.co/leteLQnBpu</td>\n",
       "      <td>https://www.indiatoday.in/india/story/rhea-cha...</td>\n",
       "      <td>www.indiatoday.in</td>\n",
       "      <td>1</td>\n",
       "      <td>NaN</td>\n",
       "      <td>NaN</td>\n",
       "      <td>NaN</td>\n",
       "    </tr>\n",
       "    <tr>\n",
       "      <th>3</th>\n",
       "      <td>https://t.co/6GFnJt6ocD</td>\n",
       "      <td>https://news.stlpublicradio.org/show/st-louis-...</td>\n",
       "      <td>news.stlpublicradio.org</td>\n",
       "      <td>1</td>\n",
       "      <td>NaN</td>\n",
       "      <td>NaN</td>\n",
       "      <td>NaN</td>\n",
       "    </tr>\n",
       "    <tr>\n",
       "      <th>4</th>\n",
       "      <td>https://t.co/nsKgHeB9z0</td>\n",
       "      <td>https://quotesaboutaddiction.com/our-daily-pub...</td>\n",
       "      <td>quotesaboutaddiction.com</td>\n",
       "      <td>1</td>\n",
       "      <td>NaN</td>\n",
       "      <td>NaN</td>\n",
       "      <td>NaN</td>\n",
       "    </tr>\n",
       "    <tr>\n",
       "      <th>...</th>\n",
       "      <td>...</td>\n",
       "      <td>...</td>\n",
       "      <td>...</td>\n",
       "      <td>...</td>\n",
       "      <td>...</td>\n",
       "      <td>...</td>\n",
       "      <td>...</td>\n",
       "    </tr>\n",
       "    <tr>\n",
       "      <th>12711</th>\n",
       "      <td>https://t.co/fAgW41aDes</td>\n",
       "      <td>https://www.linkedin.com/feed/update/urn:li:ac...</td>\n",
       "      <td>www.linkedin.com</td>\n",
       "      <td>1</td>\n",
       "      <td>NaN</td>\n",
       "      <td>NaN</td>\n",
       "      <td>NaN</td>\n",
       "    </tr>\n",
       "    <tr>\n",
       "      <th>12712</th>\n",
       "      <td>https://t.co/0qqUoTM6Gw</td>\n",
       "      <td>https://techcrunch.com/events/tc-sessions-robo...</td>\n",
       "      <td>techcrunch.com</td>\n",
       "      <td>1</td>\n",
       "      <td>NaN</td>\n",
       "      <td>NaN</td>\n",
       "      <td>NaN</td>\n",
       "    </tr>\n",
       "    <tr>\n",
       "      <th>12713</th>\n",
       "      <td>https://t.co/tOxSAqFR7y</td>\n",
       "      <td>http://handsonrealestateinvesting.com/2014/11/...</td>\n",
       "      <td>handsonrealestateinvesting.com</td>\n",
       "      <td>1</td>\n",
       "      <td>NaN</td>\n",
       "      <td>NaN</td>\n",
       "      <td>NaN</td>\n",
       "    </tr>\n",
       "    <tr>\n",
       "      <th>12714</th>\n",
       "      <td>https://t.co/hdvH4a26km</td>\n",
       "      <td>https://news.stocktradersdaily.com/news_releas...</td>\n",
       "      <td>news.stocktradersdaily.com</td>\n",
       "      <td>1</td>\n",
       "      <td>NaN</td>\n",
       "      <td>NaN</td>\n",
       "      <td>NaN</td>\n",
       "    </tr>\n",
       "    <tr>\n",
       "      <th>12715</th>\n",
       "      <td>https://t.co/s78M2Rbuha</td>\n",
       "      <td>https://www.businesswire.com/news/home/2022071...</td>\n",
       "      <td>www.businesswire.com</td>\n",
       "      <td>1</td>\n",
       "      <td>NaN</td>\n",
       "      <td>NaN</td>\n",
       "      <td>NaN</td>\n",
       "    </tr>\n",
       "  </tbody>\n",
       "</table>\n",
       "<p>12716 rows × 7 columns</p>\n",
       "</div>"
      ],
      "text/plain": [
       "                           url  \\\n",
       "0      https://t.co/bPY9dVe8NC   \n",
       "1      https://t.co/tdXVc3Ha1E   \n",
       "2      https://t.co/leteLQnBpu   \n",
       "3      https://t.co/6GFnJt6ocD   \n",
       "4      https://t.co/nsKgHeB9z0   \n",
       "...                        ...   \n",
       "12711  https://t.co/fAgW41aDes   \n",
       "12712  https://t.co/0qqUoTM6Gw   \n",
       "12713  https://t.co/tOxSAqFR7y   \n",
       "12714  https://t.co/hdvH4a26km   \n",
       "12715  https://t.co/s78M2Rbuha   \n",
       "\n",
       "                                            landing_page  \\\n",
       "0      https://quotesaboutaddiction.com/our-daily-pub...   \n",
       "1      http://m.newspic.kr/view.html?nid=202207141140...   \n",
       "2      https://www.indiatoday.in/india/story/rhea-cha...   \n",
       "3      https://news.stlpublicradio.org/show/st-louis-...   \n",
       "4      https://quotesaboutaddiction.com/our-daily-pub...   \n",
       "...                                                  ...   \n",
       "12711  https://www.linkedin.com/feed/update/urn:li:ac...   \n",
       "12712  https://techcrunch.com/events/tc-sessions-robo...   \n",
       "12713  http://handsonrealestateinvesting.com/2014/11/...   \n",
       "12714  https://news.stocktradersdaily.com/news_releas...   \n",
       "12715  https://www.businesswire.com/news/home/2022071...   \n",
       "\n",
       "                  landing_page_domain  isAffiliate  offer_title  \\\n",
       "0            quotesaboutaddiction.com            1          NaN   \n",
       "1                        m.newspic.kr            1          NaN   \n",
       "2                   www.indiatoday.in            1          NaN   \n",
       "3             news.stlpublicradio.org            1          NaN   \n",
       "4            quotesaboutaddiction.com            1          NaN   \n",
       "...                               ...          ...          ...   \n",
       "12711                www.linkedin.com            1          NaN   \n",
       "12712                  techcrunch.com            1          NaN   \n",
       "12713  handsonrealestateinvesting.com            1          NaN   \n",
       "12714      news.stocktradersdaily.com            1          NaN   \n",
       "12715            www.businesswire.com            1          NaN   \n",
       "\n",
       "      offer_category  offer_payout  \n",
       "0                NaN           NaN  \n",
       "1                NaN           NaN  \n",
       "2                NaN           NaN  \n",
       "3                NaN           NaN  \n",
       "4                NaN           NaN  \n",
       "...              ...           ...  \n",
       "12711            NaN           NaN  \n",
       "12712            NaN           NaN  \n",
       "12713            NaN           NaN  \n",
       "12714            NaN           NaN  \n",
       "12715            NaN           NaN  \n",
       "\n",
       "[12716 rows x 7 columns]"
      ]
     },
     "execution_count": 20,
     "metadata": {},
     "output_type": "execute_result"
    }
   ],
   "source": [
    "df"
   ]
  },
  {
   "cell_type": "code",
   "execution_count": 21,
   "metadata": {},
   "outputs": [
    {
     "data": {
      "text/plain": [
       "www.amazon.com                 3607\n",
       "www.amazon.in                   659\n",
       "www.northwesternmutual.com      272\n",
       "www.ezanga.com                  100\n",
       "www.amazon.it                    98\n",
       "                               ... \n",
       "www.stubhub.com                   1\n",
       "www.theregister.com               1\n",
       "www.firmsexplorer.com             1\n",
       "app2top.ru                        1\n",
       "www.braintumourresearch.org       1\n",
       "Name: landing_page_domain, Length: 3082, dtype: int64"
      ]
     },
     "execution_count": 21,
     "metadata": {},
     "output_type": "execute_result"
    }
   ],
   "source": [
    "df.landing_page_domain.value_counts()"
   ]
  },
  {
   "cell_type": "code",
   "execution_count": 22,
   "metadata": {},
   "outputs": [
    {
     "data": {
      "text/plain": [
       "4532"
      ]
     },
     "execution_count": 22,
     "metadata": {},
     "output_type": "execute_result"
    }
   ],
   "source": [
    "df[df['landing_page_domain'].str.contains('amazon')].shape[0]"
   ]
  }
 ],
 "metadata": {
  "kernelspec": {
   "display_name": "Python 3.7.10 ('py37')",
   "language": "python",
   "name": "python3"
  },
  "language_info": {
   "codemirror_mode": {
    "name": "ipython",
    "version": 3
   },
   "file_extension": ".py",
   "mimetype": "text/x-python",
   "name": "python",
   "nbconvert_exporter": "python",
   "pygments_lexer": "ipython3",
   "version": "3.7.10"
  },
  "orig_nbformat": 4,
  "vscode": {
   "interpreter": {
    "hash": "1084607fb1ec85c20c00d1b5b4f2e0b7627b79be1f5395c4e028471685aafe8c"
   }
  }
 },
 "nbformat": 4,
 "nbformat_minor": 2
}
