{
 "cells": [
  {
   "cell_type": "code",
   "execution_count": 2,
   "metadata": {},
   "outputs": [
    {
     "data": {
      "text/plain": [
       "131072"
      ]
     },
     "execution_count": 2,
     "metadata": {},
     "output_type": "execute_result"
    }
   ],
   "source": [
    "import pandas as pd\n",
    "import csv\n",
    "pd.set_option(\"display.max_columns\", None)\n",
    "pd.set_option(\"display.max_rows\", 50)\n",
    "csv.field_size_limit(500 * 1024 * 1024)"
   ]
  },
  {
   "cell_type": "code",
   "execution_count": 3,
   "metadata": {},
   "outputs": [],
   "source": [
    "df_youtube = pd.read_csv('./1006/youtube_affiliate_comments.csv', engine = 'python')"
   ]
  },
  {
   "cell_type": "code",
   "execution_count": 21,
   "metadata": {},
   "outputs": [],
   "source": [
    "# df_youtube = df_youtube.reindex(columns=df_youtube.columns.to_list() + ['affiliate_url_count'])\n",
    "# df_youtube.affiliate_url_count = 0"
   ]
  },
  {
   "cell_type": "code",
   "execution_count": 22,
   "metadata": {},
   "outputs": [],
   "source": [
    "# ddd = pd.read_csv('./1006/youtube_results_0915.csv', engine = 'python')"
   ]
  },
  {
   "cell_type": "code",
   "execution_count": 23,
   "metadata": {},
   "outputs": [],
   "source": [
    "# affiliate_url_list = list(set(ddd[ddd['isAffiliateLink'] == 1].url.to_list()))"
   ]
  },
  {
   "cell_type": "code",
   "execution_count": 24,
   "metadata": {},
   "outputs": [
    {
     "name": "stderr",
     "output_type": "stream",
     "text": [
      "100%|██████████| 15786/15786 [00:12<00:00, 1281.43it/s]\n"
     ]
    }
   ],
   "source": [
    "# from tqdm import tqdm\n",
    "# import ast\n",
    "# for i in tqdm(range(len(df_youtube))):\n",
    "#     count = 0\n",
    "#     for url in ast.literal_eval(df_youtube.loc[i, 'urls']):\n",
    "#         if url in affiliate_url_list:\n",
    "#             count = count + 1\n",
    "#     df_youtube.loc[i, 'affiliate_url_count'] = count"
   ]
  },
  {
   "cell_type": "code",
   "execution_count": 27,
   "metadata": {},
   "outputs": [],
   "source": [
    "# df_youtube.to_csv('./1006/youtube_affiliate_comments.csv', index = False)"
   ]
  },
  {
   "cell_type": "code",
   "execution_count": 4,
   "metadata": {},
   "outputs": [
    {
     "data": {
      "text/plain": [
       "(15786, 13)"
      ]
     },
     "execution_count": 4,
     "metadata": {},
     "output_type": "execute_result"
    }
   ],
   "source": [
    "df_youtube.shape"
   ]
  },
  {
   "cell_type": "markdown",
   "metadata": {},
   "source": [
    "15786条评论来自1598个不同的用户"
   ]
  },
  {
   "cell_type": "code",
   "execution_count": 5,
   "metadata": {},
   "outputs": [
    {
     "data": {
      "text/plain": [
       "1598"
      ]
     },
     "execution_count": 5,
     "metadata": {},
     "output_type": "execute_result"
    }
   ],
   "source": [
    "df_youtube.authorId.nunique()"
   ]
  },
  {
   "cell_type": "markdown",
   "metadata": {},
   "source": [
    "有4名用户发布的affiliate comments超过了1000条，共5118条。（32.42%）"
   ]
  },
  {
   "cell_type": "code",
   "execution_count": 6,
   "metadata": {},
   "outputs": [
    {
     "data": {
      "text/plain": [
       "UCkw4JCwteGrDHIsyIIKo4tQ    1544\n",
       "UC3o3cUNVrcwrEE6B9CNGDbw    1273\n",
       "UCc0KPctILg6USaDJS6tcJgg    1271\n",
       "UCSE72IaHOL-1Tv-m3JHE4Cg    1030\n",
       "UCsvqVGtbbyHaMoevxPAq9Fg     414\n",
       "                            ... \n",
       "UC20VPL2lPtNChvyJORjCUUw       1\n",
       "UCuZb13gB3bNo2L2VODzYAGg       1\n",
       "UCF9-JngqznvAsiF2yZbeY8g       1\n",
       "UChmkRFkzzzrmN4nAq6_7WeQ       1\n",
       "UCw7Dzi5OdZsv0Xx9xNrasmw       1\n",
       "Name: authorId, Length: 1598, dtype: int64"
      ]
     },
     "execution_count": 6,
     "metadata": {},
     "output_type": "execute_result"
    }
   ],
   "source": [
    "df_youtube.authorId.value_counts()"
   ]
  },
  {
   "cell_type": "markdown",
   "metadata": {},
   "source": [
    "- 评论发布者与视频发布者为同一人"
   ]
  },
  {
   "cell_type": "code",
   "execution_count": 7,
   "metadata": {},
   "outputs": [
    {
     "data": {
      "text/plain": [
       "14533"
      ]
     },
     "execution_count": 7,
     "metadata": {},
     "output_type": "execute_result"
    }
   ],
   "source": [
    "df_youtube[df_youtube['channelcommentpostedon']==df_youtube['authorId']].shape[0]"
   ]
  },
  {
   "cell_type": "markdown",
   "metadata": {},
   "source": [
    "- 评论发布者与视频发布者不是同一人"
   ]
  },
  {
   "cell_type": "code",
   "execution_count": 8,
   "metadata": {},
   "outputs": [
    {
     "data": {
      "text/plain": [
       "1253"
      ]
     },
     "execution_count": 8,
     "metadata": {},
     "output_type": "execute_result"
    }
   ],
   "source": [
    "df_youtube[df_youtube['channelcommentpostedon']!=df_youtube['authorId']].shape[0]"
   ]
  },
  {
   "cell_type": "markdown",
   "metadata": {},
   "source": [
    "- 时间差计算"
   ]
  },
  {
   "cell_type": "code",
   "execution_count": 9,
   "metadata": {},
   "outputs": [],
   "source": [
    "df_afcomments_groupby_authorid=df_youtube.groupby('authorId')"
   ]
  },
  {
   "cell_type": "code",
   "execution_count": 10,
   "metadata": {},
   "outputs": [],
   "source": [
    "import time\n",
    "from datetime import datetime\n",
    "\n",
    "def date_time_str_to_long(input_date_time_string):\n",
    "    dt = datetime.strptime(input_date_time_string, '%Y-%m-%dT%H:%M:%SZ')\n",
    "    timeStamp = dt.timestamp()\n",
    "    return timeStamp\n",
    "\n",
    "\n",
    "def date_time_count(startTime, endTime):\n",
    "    '''\n",
    "    计算两个时间之间的差值，精确到秒\n",
    "    :param startTime:\n",
    "    :param endTime:\n",
    "    :return:\n",
    "    '''\n",
    "    spent_times = int(date_time_str_to_long(endTime)) - int(date_time_str_to_long(startTime))\n",
    "    # print('endTime={},startTime={},时间差值={}'.format(endTime, startTime, spent_times))\n",
    "    return spent_times"
   ]
  },
  {
   "cell_type": "code",
   "execution_count": 13,
   "metadata": {},
   "outputs": [
    {
     "name": "stderr",
     "output_type": "stream",
     "text": [
      "100%|██████████| 1598/1598 [00:05<00:00, 300.44it/s]\n"
     ]
    }
   ],
   "source": [
    "from tqdm import tqdm\n",
    "\n",
    "df_time_delta=pd.DataFrame(columns=['authorId', 'minDelta', 'maxDelta', 'commentDates','deltas', 'commentCount'])\n",
    "\n",
    "for authorId, group in tqdm(df_afcomments_groupby_authorid):  # 遍历.DataFrameGroupBy对象\n",
    "    # print(authorId, len(group))\n",
    "    # 所有评论发布的时间\n",
    "    comments_date=[]\n",
    "    deltas=[]\n",
    "    for i in range(len(group)):\n",
    "        comments_date.append(group.iloc[i, 3])\n",
    "    comments_date = sorted(comments_date)\n",
    "    # 计算差值\n",
    "    for i in range(len(comments_date)-1, 0, -1):\n",
    "        delta=date_time_count(comments_date[i-1], comments_date[i])\n",
    "        deltas.append(delta)\n",
    "    mi, ma = None, None\n",
    "    if deltas:\n",
    "        mi=min(deltas)\n",
    "        ma=max(deltas)\n",
    "    time_delta = {\n",
    "        \"authorId\": authorId,\n",
    "        \"minDelta\": mi,\n",
    "        \"maxDelta\": ma,\n",
    "        \"commentDates\": comments_date,\n",
    "        \"deltas\": deltas,\n",
    "        \"commentCount\": len(group)\n",
    "    }\n",
    "    df_time_delta.loc[len(df_time_delta)] = time_delta"
   ]
  },
  {
   "cell_type": "code",
   "execution_count": 14,
   "metadata": {},
   "outputs": [],
   "source": [
    "df_time_delta = df_time_delta.reindex(columns=df_time_delta.columns.to_list() + ['meanDelta'])\n",
    "df_time_delta.meanDelta = None"
   ]
  },
  {
   "cell_type": "code",
   "execution_count": 15,
   "metadata": {},
   "outputs": [
    {
     "name": "stderr",
     "output_type": "stream",
     "text": [
      "100%|██████████| 1598/1598 [00:00<00:00, 10628.48it/s]\n"
     ]
    }
   ],
   "source": [
    "from tqdm import tqdm\n",
    "\n",
    "for i in tqdm(range(len(df_time_delta))):\n",
    "    if df_time_delta.loc[i, 'deltas']:\n",
    "        count = len(df_time_delta.loc[i, 'deltas'])\n",
    "        df_time_delta.loc[i, 'meanDelta'] = sum(df_time_delta.loc[i, 'deltas'])/count"
   ]
  },
  {
   "cell_type": "code",
   "execution_count": 51,
   "metadata": {},
   "outputs": [],
   "source": [
    "df_top_20 = df_time_delta.sort_values('commentCount', ascending = False).head(20)"
   ]
  },
  {
   "cell_type": "code",
   "execution_count": 53,
   "metadata": {},
   "outputs": [],
   "source": [
    "df_top_20.reset_index(inplace = True)"
   ]
  },
  {
   "cell_type": "code",
   "execution_count": 54,
   "metadata": {},
   "outputs": [
    {
     "data": {
      "text/html": [
       "<div>\n",
       "<style scoped>\n",
       "    .dataframe tbody tr th:only-of-type {\n",
       "        vertical-align: middle;\n",
       "    }\n",
       "\n",
       "    .dataframe tbody tr th {\n",
       "        vertical-align: top;\n",
       "    }\n",
       "\n",
       "    .dataframe thead th {\n",
       "        text-align: right;\n",
       "    }\n",
       "</style>\n",
       "<table border=\"1\" class=\"dataframe\">\n",
       "  <thead>\n",
       "    <tr style=\"text-align: right;\">\n",
       "      <th></th>\n",
       "      <th>index</th>\n",
       "      <th>authorId</th>\n",
       "      <th>minDelta</th>\n",
       "      <th>maxDelta</th>\n",
       "      <th>commentDates</th>\n",
       "      <th>deltas</th>\n",
       "      <th>commentCount</th>\n",
       "      <th>meanDelta</th>\n",
       "    </tr>\n",
       "  </thead>\n",
       "  <tbody>\n",
       "    <tr>\n",
       "      <th>0</th>\n",
       "      <td>1232</td>\n",
       "      <td>UCkw4JCwteGrDHIsyIIKo4tQ</td>\n",
       "      <td>6</td>\n",
       "      <td>233718</td>\n",
       "      <td>[2021-11-25T07:45:30Z, 2021-11-25T08:18:20Z, 2...</td>\n",
       "      <td>[9496, 2653, 22428, 2203, 81, 32, 83703, 31, 2...</td>\n",
       "      <td>1544</td>\n",
       "      <td>13163.593001</td>\n",
       "    </tr>\n",
       "    <tr>\n",
       "      <th>1</th>\n",
       "      <td>131</td>\n",
       "      <td>UC3o3cUNVrcwrEE6B9CNGDbw</td>\n",
       "      <td>3</td>\n",
       "      <td>2171863</td>\n",
       "      <td>[2021-12-07T20:44:58Z, 2021-12-10T20:08:37Z, 2...</td>\n",
       "      <td>[183331, 76229, 4964, 3766, 6439, 7484, 435585...</td>\n",
       "      <td>1273</td>\n",
       "      <td>14875.705189</td>\n",
       "    </tr>\n",
       "    <tr>\n",
       "      <th>2</th>\n",
       "      <td>1021</td>\n",
       "      <td>UCc0KPctILg6USaDJS6tcJgg</td>\n",
       "      <td>1</td>\n",
       "      <td>50860611</td>\n",
       "      <td>[2020-05-22T20:12:50Z, 2020-07-03T15:10:07Z, 2...</td>\n",
       "      <td>[297, 50860611, 126, 134, 147, 129, 235, 117, ...</td>\n",
       "      <td>1271</td>\n",
       "      <td>53383.299213</td>\n",
       "    </tr>\n",
       "    <tr>\n",
       "      <th>3</th>\n",
       "      <td>748</td>\n",
       "      <td>UCSE72IaHOL-1Tv-m3JHE4Cg</td>\n",
       "      <td>2</td>\n",
       "      <td>4152632</td>\n",
       "      <td>[2021-11-19T12:00:08Z, 2021-11-19T12:09:35Z, 2...</td>\n",
       "      <td>[20, 39, 20, 21, 23, 54, 31, 20, 19, 20, 21, 2...</td>\n",
       "      <td>1030</td>\n",
       "      <td>20828.01069</td>\n",
       "    </tr>\n",
       "    <tr>\n",
       "      <th>4</th>\n",
       "      <td>1431</td>\n",
       "      <td>UCsvqVGtbbyHaMoevxPAq9Fg</td>\n",
       "      <td>27</td>\n",
       "      <td>100384884</td>\n",
       "      <td>[2015-08-25T14:31:02Z, 2015-10-26T13:26:15Z, 2...</td>\n",
       "      <td>[174677, 424885, 168968, 456131, 2629, 152308,...</td>\n",
       "      <td>414</td>\n",
       "      <td>526536.138015</td>\n",
       "    </tr>\n",
       "    <tr>\n",
       "      <th>5</th>\n",
       "      <td>746</td>\n",
       "      <td>UCS9OE6KeXQ54nSMqhRx0_EQ</td>\n",
       "      <td>23</td>\n",
       "      <td>1619886</td>\n",
       "      <td>[2020-01-08T17:09:38Z, 2020-01-09T11:03:52Z, 2...</td>\n",
       "      <td>[68762, 512926, 15688, 93121, 384506, 50680, 1...</td>\n",
       "      <td>406</td>\n",
       "      <td>195770.209877</td>\n",
       "    </tr>\n",
       "    <tr>\n",
       "      <th>6</th>\n",
       "      <td>362</td>\n",
       "      <td>UCBkvic2-pCrd1VzVXnh6_Vg</td>\n",
       "      <td>6</td>\n",
       "      <td>5460248</td>\n",
       "      <td>[2019-12-13T16:43:14Z, 2019-12-13T16:44:58Z, 2...</td>\n",
       "      <td>[63525, 331545, 174606, 98124, 183501, 69360, ...</td>\n",
       "      <td>321</td>\n",
       "      <td>257423.909375</td>\n",
       "    </tr>\n",
       "    <tr>\n",
       "      <th>7</th>\n",
       "      <td>939</td>\n",
       "      <td>UCZbNi5DqBvaOZygMl8HfjDQ</td>\n",
       "      <td>7</td>\n",
       "      <td>529956</td>\n",
       "      <td>[2022-03-23T17:23:04Z, 2022-03-23T17:29:57Z, 2...</td>\n",
       "      <td>[15, 11, 18, 14, 10, 12, 20, 10, 11, 7, 8, 10,...</td>\n",
       "      <td>275</td>\n",
       "      <td>21058.529197</td>\n",
       "    </tr>\n",
       "    <tr>\n",
       "      <th>8</th>\n",
       "      <td>656</td>\n",
       "      <td>UCNc4FB7ylWM0LBx0rx8SyZA</td>\n",
       "      <td>14</td>\n",
       "      <td>2067819</td>\n",
       "      <td>[2022-01-25T12:11:35Z, 2022-02-18T10:35:14Z, 2...</td>\n",
       "      <td>[5233, 13479, 144475, 1700, 11348, 10402, 8396...</td>\n",
       "      <td>275</td>\n",
       "      <td>52426.328467</td>\n",
       "    </tr>\n",
       "    <tr>\n",
       "      <th>9</th>\n",
       "      <td>369</td>\n",
       "      <td>UCC06zokQMplHNWKN79FTd2w</td>\n",
       "      <td>8</td>\n",
       "      <td>41468391</td>\n",
       "      <td>[2020-11-26T02:49:22Z, 2020-11-26T02:49:35Z, 2...</td>\n",
       "      <td>[342124, 8, 9, 41468391, 138, 398, 146, 3263, ...</td>\n",
       "      <td>261</td>\n",
       "      <td>187814.061538</td>\n",
       "    </tr>\n",
       "    <tr>\n",
       "      <th>10</th>\n",
       "      <td>509</td>\n",
       "      <td>UCHklDPNc9WZFUY0jaZNdcFQ</td>\n",
       "      <td>3</td>\n",
       "      <td>304683</td>\n",
       "      <td>[2022-05-26T20:15:19Z, 2022-05-26T20:17:13Z, 2...</td>\n",
       "      <td>[24, 19, 27, 64, 78929, 14, 17, 27, 10, 10, 26...</td>\n",
       "      <td>260</td>\n",
       "      <td>14685.362934</td>\n",
       "    </tr>\n",
       "    <tr>\n",
       "      <th>11</th>\n",
       "      <td>326</td>\n",
       "      <td>UCAohrrjG-3gEp5QF1WlM9_w</td>\n",
       "      <td>26</td>\n",
       "      <td>1317531</td>\n",
       "      <td>[2021-04-22T14:02:55Z, 2021-04-23T08:40:12Z, 2...</td>\n",
       "      <td>[611751, 76005, 94295, 178117, 73451, 23890, 1...</td>\n",
       "      <td>255</td>\n",
       "      <td>151336.775591</td>\n",
       "    </tr>\n",
       "    <tr>\n",
       "      <th>12</th>\n",
       "      <td>1303</td>\n",
       "      <td>UCngdIjToGTKfOyoRCBLq0vg</td>\n",
       "      <td>10</td>\n",
       "      <td>56534</td>\n",
       "      <td>[2022-06-30T12:27:16Z, 2022-06-30T13:27:04Z, 2...</td>\n",
       "      <td>[179, 25, 44517, 146, 6232, 13778, 13598, 8079...</td>\n",
       "      <td>237</td>\n",
       "      <td>9725.245763</td>\n",
       "    </tr>\n",
       "    <tr>\n",
       "      <th>13</th>\n",
       "      <td>1510</td>\n",
       "      <td>UCw6Dxk_YQdVE-Vy-OVJsRYQ</td>\n",
       "      <td>12</td>\n",
       "      <td>10887498</td>\n",
       "      <td>[2019-12-09T15:02:34Z, 2019-12-09T15:19:17Z, 2...</td>\n",
       "      <td>[3019208, 1742526, 24, 26, 26, 25, 26, 24, 107...</td>\n",
       "      <td>201</td>\n",
       "      <td>400455.88</td>\n",
       "    </tr>\n",
       "    <tr>\n",
       "      <th>14</th>\n",
       "      <td>547</td>\n",
       "      <td>UCJS9pqu9BzkAMNTmzNMNhvg</td>\n",
       "      <td>40</td>\n",
       "      <td>11208330</td>\n",
       "      <td>[2020-10-28T23:58:38Z, 2020-12-23T18:48:56Z, 2...</td>\n",
       "      <td>[110, 69, 1378916, 2392214, 974413, 9677163, 1...</td>\n",
       "      <td>186</td>\n",
       "      <td>242235.6</td>\n",
       "    </tr>\n",
       "    <tr>\n",
       "      <th>15</th>\n",
       "      <td>415</td>\n",
       "      <td>UCDkcjwvWxUqWUmkDEIQrkuQ</td>\n",
       "      <td>3082</td>\n",
       "      <td>1197398</td>\n",
       "      <td>[2021-06-10T01:38:40Z, 2021-06-23T22:15:18Z, 2...</td>\n",
       "      <td>[29448, 74185, 76173, 444226, 10245, 147411, 7...</td>\n",
       "      <td>183</td>\n",
       "      <td>195059.901099</td>\n",
       "    </tr>\n",
       "    <tr>\n",
       "      <th>16</th>\n",
       "      <td>799</td>\n",
       "      <td>UCUE_Y-qamqLT-5bsihtCphw</td>\n",
       "      <td>8</td>\n",
       "      <td>4724285</td>\n",
       "      <td>[2021-04-06T17:33:06Z, 2021-04-06T17:34:03Z, 2...</td>\n",
       "      <td>[521279, 332902, 620869, 150570, 186353, 33660...</td>\n",
       "      <td>174</td>\n",
       "      <td>230107.988439</td>\n",
       "    </tr>\n",
       "    <tr>\n",
       "      <th>17</th>\n",
       "      <td>1497</td>\n",
       "      <td>UCvXiO5TwF8rMkEmX_3-7d3Q</td>\n",
       "      <td>15</td>\n",
       "      <td>586254</td>\n",
       "      <td>[2021-11-26T14:04:36Z, 2021-11-26T14:05:22Z, 2...</td>\n",
       "      <td>[16009, 162916, 94015, 91231, 159735, 167259, ...</td>\n",
       "      <td>172</td>\n",
       "      <td>123946.023392</td>\n",
       "    </tr>\n",
       "    <tr>\n",
       "      <th>18</th>\n",
       "      <td>1223</td>\n",
       "      <td>UCkJEUalkFcY2zf6d1Qk8QxQ</td>\n",
       "      <td>104</td>\n",
       "      <td>162719</td>\n",
       "      <td>[2022-06-19T22:24:50Z, 2022-06-19T23:00:45Z, 2...</td>\n",
       "      <td>[11999, 38047, 1823, 785, 945, 40070, 4083, 24...</td>\n",
       "      <td>166</td>\n",
       "      <td>13955.260606</td>\n",
       "    </tr>\n",
       "    <tr>\n",
       "      <th>19</th>\n",
       "      <td>445</td>\n",
       "      <td>UCEvTnUBoNZn5otRTotKjDeg</td>\n",
       "      <td>8</td>\n",
       "      <td>10759427</td>\n",
       "      <td>[2021-01-06T22:10:14Z, 2021-01-06T22:10:35Z, 2...</td>\n",
       "      <td>[777500, 346366, 71126, 99687, 99128, 70351, 1...</td>\n",
       "      <td>165</td>\n",
       "      <td>287706.945122</td>\n",
       "    </tr>\n",
       "  </tbody>\n",
       "</table>\n",
       "</div>"
      ],
      "text/plain": [
       "    index                  authorId minDelta   maxDelta  \\\n",
       "0    1232  UCkw4JCwteGrDHIsyIIKo4tQ        6     233718   \n",
       "1     131  UC3o3cUNVrcwrEE6B9CNGDbw        3    2171863   \n",
       "2    1021  UCc0KPctILg6USaDJS6tcJgg        1   50860611   \n",
       "3     748  UCSE72IaHOL-1Tv-m3JHE4Cg        2    4152632   \n",
       "4    1431  UCsvqVGtbbyHaMoevxPAq9Fg       27  100384884   \n",
       "5     746  UCS9OE6KeXQ54nSMqhRx0_EQ       23    1619886   \n",
       "6     362  UCBkvic2-pCrd1VzVXnh6_Vg        6    5460248   \n",
       "7     939  UCZbNi5DqBvaOZygMl8HfjDQ        7     529956   \n",
       "8     656  UCNc4FB7ylWM0LBx0rx8SyZA       14    2067819   \n",
       "9     369  UCC06zokQMplHNWKN79FTd2w        8   41468391   \n",
       "10    509  UCHklDPNc9WZFUY0jaZNdcFQ        3     304683   \n",
       "11    326  UCAohrrjG-3gEp5QF1WlM9_w       26    1317531   \n",
       "12   1303  UCngdIjToGTKfOyoRCBLq0vg       10      56534   \n",
       "13   1510  UCw6Dxk_YQdVE-Vy-OVJsRYQ       12   10887498   \n",
       "14    547  UCJS9pqu9BzkAMNTmzNMNhvg       40   11208330   \n",
       "15    415  UCDkcjwvWxUqWUmkDEIQrkuQ     3082    1197398   \n",
       "16    799  UCUE_Y-qamqLT-5bsihtCphw        8    4724285   \n",
       "17   1497  UCvXiO5TwF8rMkEmX_3-7d3Q       15     586254   \n",
       "18   1223  UCkJEUalkFcY2zf6d1Qk8QxQ      104     162719   \n",
       "19    445  UCEvTnUBoNZn5otRTotKjDeg        8   10759427   \n",
       "\n",
       "                                         commentDates  \\\n",
       "0   [2021-11-25T07:45:30Z, 2021-11-25T08:18:20Z, 2...   \n",
       "1   [2021-12-07T20:44:58Z, 2021-12-10T20:08:37Z, 2...   \n",
       "2   [2020-05-22T20:12:50Z, 2020-07-03T15:10:07Z, 2...   \n",
       "3   [2021-11-19T12:00:08Z, 2021-11-19T12:09:35Z, 2...   \n",
       "4   [2015-08-25T14:31:02Z, 2015-10-26T13:26:15Z, 2...   \n",
       "5   [2020-01-08T17:09:38Z, 2020-01-09T11:03:52Z, 2...   \n",
       "6   [2019-12-13T16:43:14Z, 2019-12-13T16:44:58Z, 2...   \n",
       "7   [2022-03-23T17:23:04Z, 2022-03-23T17:29:57Z, 2...   \n",
       "8   [2022-01-25T12:11:35Z, 2022-02-18T10:35:14Z, 2...   \n",
       "9   [2020-11-26T02:49:22Z, 2020-11-26T02:49:35Z, 2...   \n",
       "10  [2022-05-26T20:15:19Z, 2022-05-26T20:17:13Z, 2...   \n",
       "11  [2021-04-22T14:02:55Z, 2021-04-23T08:40:12Z, 2...   \n",
       "12  [2022-06-30T12:27:16Z, 2022-06-30T13:27:04Z, 2...   \n",
       "13  [2019-12-09T15:02:34Z, 2019-12-09T15:19:17Z, 2...   \n",
       "14  [2020-10-28T23:58:38Z, 2020-12-23T18:48:56Z, 2...   \n",
       "15  [2021-06-10T01:38:40Z, 2021-06-23T22:15:18Z, 2...   \n",
       "16  [2021-04-06T17:33:06Z, 2021-04-06T17:34:03Z, 2...   \n",
       "17  [2021-11-26T14:04:36Z, 2021-11-26T14:05:22Z, 2...   \n",
       "18  [2022-06-19T22:24:50Z, 2022-06-19T23:00:45Z, 2...   \n",
       "19  [2021-01-06T22:10:14Z, 2021-01-06T22:10:35Z, 2...   \n",
       "\n",
       "                                               deltas commentCount  \\\n",
       "0   [9496, 2653, 22428, 2203, 81, 32, 83703, 31, 2...         1544   \n",
       "1   [183331, 76229, 4964, 3766, 6439, 7484, 435585...         1273   \n",
       "2   [297, 50860611, 126, 134, 147, 129, 235, 117, ...         1271   \n",
       "3   [20, 39, 20, 21, 23, 54, 31, 20, 19, 20, 21, 2...         1030   \n",
       "4   [174677, 424885, 168968, 456131, 2629, 152308,...          414   \n",
       "5   [68762, 512926, 15688, 93121, 384506, 50680, 1...          406   \n",
       "6   [63525, 331545, 174606, 98124, 183501, 69360, ...          321   \n",
       "7   [15, 11, 18, 14, 10, 12, 20, 10, 11, 7, 8, 10,...          275   \n",
       "8   [5233, 13479, 144475, 1700, 11348, 10402, 8396...          275   \n",
       "9   [342124, 8, 9, 41468391, 138, 398, 146, 3263, ...          261   \n",
       "10  [24, 19, 27, 64, 78929, 14, 17, 27, 10, 10, 26...          260   \n",
       "11  [611751, 76005, 94295, 178117, 73451, 23890, 1...          255   \n",
       "12  [179, 25, 44517, 146, 6232, 13778, 13598, 8079...          237   \n",
       "13  [3019208, 1742526, 24, 26, 26, 25, 26, 24, 107...          201   \n",
       "14  [110, 69, 1378916, 2392214, 974413, 9677163, 1...          186   \n",
       "15  [29448, 74185, 76173, 444226, 10245, 147411, 7...          183   \n",
       "16  [521279, 332902, 620869, 150570, 186353, 33660...          174   \n",
       "17  [16009, 162916, 94015, 91231, 159735, 167259, ...          172   \n",
       "18  [11999, 38047, 1823, 785, 945, 40070, 4083, 24...          166   \n",
       "19  [777500, 346366, 71126, 99687, 99128, 70351, 1...          165   \n",
       "\n",
       "        meanDelta  \n",
       "0    13163.593001  \n",
       "1    14875.705189  \n",
       "2    53383.299213  \n",
       "3     20828.01069  \n",
       "4   526536.138015  \n",
       "5   195770.209877  \n",
       "6   257423.909375  \n",
       "7    21058.529197  \n",
       "8    52426.328467  \n",
       "9   187814.061538  \n",
       "10   14685.362934  \n",
       "11  151336.775591  \n",
       "12    9725.245763  \n",
       "13      400455.88  \n",
       "14       242235.6  \n",
       "15  195059.901099  \n",
       "16  230107.988439  \n",
       "17  123946.023392  \n",
       "18   13955.260606  \n",
       "19  287706.945122  "
      ]
     },
     "execution_count": 54,
     "metadata": {},
     "output_type": "execute_result"
    }
   ],
   "source": [
    "df_top_20"
   ]
  },
  {
   "cell_type": "code",
   "execution_count": 43,
   "metadata": {},
   "outputs": [
    {
     "data": {
      "text/html": [
       "<div>\n",
       "<style scoped>\n",
       "    .dataframe tbody tr th:only-of-type {\n",
       "        vertical-align: middle;\n",
       "    }\n",
       "\n",
       "    .dataframe tbody tr th {\n",
       "        vertical-align: top;\n",
       "    }\n",
       "\n",
       "    .dataframe thead th {\n",
       "        text-align: right;\n",
       "    }\n",
       "</style>\n",
       "<table border=\"1\" class=\"dataframe\">\n",
       "  <thead>\n",
       "    <tr style=\"text-align: right;\">\n",
       "      <th></th>\n",
       "      <th>authorId</th>\n",
       "      <th>minDelta</th>\n",
       "      <th>maxDelta</th>\n",
       "      <th>commentDates</th>\n",
       "      <th>deltas</th>\n",
       "      <th>commentCount</th>\n",
       "      <th>meanDelta</th>\n",
       "    </tr>\n",
       "  </thead>\n",
       "  <tbody>\n",
       "    <tr>\n",
       "      <th>2</th>\n",
       "      <td>UC-1xWddB-H8_uVdpXJ1qFnw</td>\n",
       "      <td>0</td>\n",
       "      <td>0</td>\n",
       "      <td>[2022-06-21T06:26:56Z, 2022-06-21T06:26:56Z]</td>\n",
       "      <td>[0]</td>\n",
       "      <td>2</td>\n",
       "      <td>0.0</td>\n",
       "    </tr>\n",
       "    <tr>\n",
       "      <th>1582</th>\n",
       "      <td>UCzND5Kjq4-zoy8LvbvHJTmA</td>\n",
       "      <td>0</td>\n",
       "      <td>0</td>\n",
       "      <td>[2022-07-07T18:52:53Z, 2022-07-07T18:52:53Z]</td>\n",
       "      <td>[0]</td>\n",
       "      <td>2</td>\n",
       "      <td>0.0</td>\n",
       "    </tr>\n",
       "    <tr>\n",
       "      <th>786</th>\n",
       "      <td>UCTlnaHHQ75zlDg_fLr7tGEg</td>\n",
       "      <td>0</td>\n",
       "      <td>0</td>\n",
       "      <td>[2022-07-26T08:37:31Z, 2022-07-26T08:37:31Z]</td>\n",
       "      <td>[0]</td>\n",
       "      <td>2</td>\n",
       "      <td>0.0</td>\n",
       "    </tr>\n",
       "    <tr>\n",
       "      <th>1021</th>\n",
       "      <td>UCc0KPctILg6USaDJS6tcJgg</td>\n",
       "      <td>1</td>\n",
       "      <td>50860611</td>\n",
       "      <td>[2020-05-22T20:12:50Z, 2020-07-03T15:10:07Z, 2...</td>\n",
       "      <td>[297, 50860611, 126, 134, 147, 129, 235, 117, ...</td>\n",
       "      <td>1271</td>\n",
       "      <td>53383.299213</td>\n",
       "    </tr>\n",
       "    <tr>\n",
       "      <th>748</th>\n",
       "      <td>UCSE72IaHOL-1Tv-m3JHE4Cg</td>\n",
       "      <td>2</td>\n",
       "      <td>4152632</td>\n",
       "      <td>[2021-11-19T12:00:08Z, 2021-11-19T12:09:35Z, 2...</td>\n",
       "      <td>[20, 39, 20, 21, 23, 54, 31, 20, 19, 20, 21, 2...</td>\n",
       "      <td>1030</td>\n",
       "      <td>20828.01069</td>\n",
       "    </tr>\n",
       "    <tr>\n",
       "      <th>...</th>\n",
       "      <td>...</td>\n",
       "      <td>...</td>\n",
       "      <td>...</td>\n",
       "      <td>...</td>\n",
       "      <td>...</td>\n",
       "      <td>...</td>\n",
       "      <td>...</td>\n",
       "    </tr>\n",
       "    <tr>\n",
       "      <th>1592</th>\n",
       "      <td>UCzlb7-RxHTU8WriwZUE2qWw</td>\n",
       "      <td>None</td>\n",
       "      <td>None</td>\n",
       "      <td>[2022-07-27T08:29:04Z]</td>\n",
       "      <td>[]</td>\n",
       "      <td>1</td>\n",
       "      <td>None</td>\n",
       "    </tr>\n",
       "    <tr>\n",
       "      <th>1593</th>\n",
       "      <td>UCzr4Htx5Rm8h-1FWkRw_H0Q</td>\n",
       "      <td>None</td>\n",
       "      <td>None</td>\n",
       "      <td>[2022-06-16T09:07:03Z]</td>\n",
       "      <td>[]</td>\n",
       "      <td>1</td>\n",
       "      <td>None</td>\n",
       "    </tr>\n",
       "    <tr>\n",
       "      <th>1594</th>\n",
       "      <td>UCzsM70r0JtXMnnbzOZUh5qw</td>\n",
       "      <td>None</td>\n",
       "      <td>None</td>\n",
       "      <td>[2015-11-14T19:40:26Z]</td>\n",
       "      <td>[]</td>\n",
       "      <td>1</td>\n",
       "      <td>None</td>\n",
       "    </tr>\n",
       "    <tr>\n",
       "      <th>1596</th>\n",
       "      <td>UCzuRUc2UJQTL-P8hQCIKstA</td>\n",
       "      <td>None</td>\n",
       "      <td>None</td>\n",
       "      <td>[2020-11-03T16:59:00Z]</td>\n",
       "      <td>[]</td>\n",
       "      <td>1</td>\n",
       "      <td>None</td>\n",
       "    </tr>\n",
       "    <tr>\n",
       "      <th>1597</th>\n",
       "      <td>UCzvhjo6FbcLYq6BUANS9ODw</td>\n",
       "      <td>None</td>\n",
       "      <td>None</td>\n",
       "      <td>[2020-03-03T19:02:56Z]</td>\n",
       "      <td>[]</td>\n",
       "      <td>1</td>\n",
       "      <td>None</td>\n",
       "    </tr>\n",
       "  </tbody>\n",
       "</table>\n",
       "<p>1598 rows × 7 columns</p>\n",
       "</div>"
      ],
      "text/plain": [
       "                      authorId minDelta  maxDelta  \\\n",
       "2     UC-1xWddB-H8_uVdpXJ1qFnw        0         0   \n",
       "1582  UCzND5Kjq4-zoy8LvbvHJTmA        0         0   \n",
       "786   UCTlnaHHQ75zlDg_fLr7tGEg        0         0   \n",
       "1021  UCc0KPctILg6USaDJS6tcJgg        1  50860611   \n",
       "748   UCSE72IaHOL-1Tv-m3JHE4Cg        2   4152632   \n",
       "...                        ...      ...       ...   \n",
       "1592  UCzlb7-RxHTU8WriwZUE2qWw     None      None   \n",
       "1593  UCzr4Htx5Rm8h-1FWkRw_H0Q     None      None   \n",
       "1594  UCzsM70r0JtXMnnbzOZUh5qw     None      None   \n",
       "1596  UCzuRUc2UJQTL-P8hQCIKstA     None      None   \n",
       "1597  UCzvhjo6FbcLYq6BUANS9ODw     None      None   \n",
       "\n",
       "                                           commentDates  \\\n",
       "2          [2022-06-21T06:26:56Z, 2022-06-21T06:26:56Z]   \n",
       "1582       [2022-07-07T18:52:53Z, 2022-07-07T18:52:53Z]   \n",
       "786        [2022-07-26T08:37:31Z, 2022-07-26T08:37:31Z]   \n",
       "1021  [2020-05-22T20:12:50Z, 2020-07-03T15:10:07Z, 2...   \n",
       "748   [2021-11-19T12:00:08Z, 2021-11-19T12:09:35Z, 2...   \n",
       "...                                                 ...   \n",
       "1592                             [2022-07-27T08:29:04Z]   \n",
       "1593                             [2022-06-16T09:07:03Z]   \n",
       "1594                             [2015-11-14T19:40:26Z]   \n",
       "1596                             [2020-11-03T16:59:00Z]   \n",
       "1597                             [2020-03-03T19:02:56Z]   \n",
       "\n",
       "                                                 deltas commentCount  \\\n",
       "2                                                   [0]            2   \n",
       "1582                                                [0]            2   \n",
       "786                                                 [0]            2   \n",
       "1021  [297, 50860611, 126, 134, 147, 129, 235, 117, ...         1271   \n",
       "748   [20, 39, 20, 21, 23, 54, 31, 20, 19, 20, 21, 2...         1030   \n",
       "...                                                 ...          ...   \n",
       "1592                                                 []            1   \n",
       "1593                                                 []            1   \n",
       "1594                                                 []            1   \n",
       "1596                                                 []            1   \n",
       "1597                                                 []            1   \n",
       "\n",
       "         meanDelta  \n",
       "2              0.0  \n",
       "1582           0.0  \n",
       "786            0.0  \n",
       "1021  53383.299213  \n",
       "748    20828.01069  \n",
       "...            ...  \n",
       "1592          None  \n",
       "1593          None  \n",
       "1594          None  \n",
       "1596          None  \n",
       "1597          None  \n",
       "\n",
       "[1598 rows x 7 columns]"
      ]
     },
     "execution_count": 43,
     "metadata": {},
     "output_type": "execute_result"
    }
   ],
   "source": [
    "df_time_delta.sort_values('minDelta')"
   ]
  },
  {
   "cell_type": "code",
   "execution_count": 45,
   "metadata": {},
   "outputs": [
    {
     "data": {
      "text/plain": [
       "minDelta\n",
       "14          8\n",
       "16          6\n",
       "8           5\n",
       "33          5\n",
       "15          5\n",
       "           ..\n",
       "84005       1\n",
       "81619       1\n",
       "81588       1\n",
       "81396       1\n",
       "60565181    1\n",
       "Length: 436, dtype: int64"
      ]
     },
     "execution_count": 45,
     "metadata": {},
     "output_type": "execute_result"
    }
   ],
   "source": [
    "df_time_delta[['minDelta']].value_counts()"
   ]
  },
  {
   "cell_type": "code",
   "execution_count": 61,
   "metadata": {},
   "outputs": [],
   "source": [
    "df_top_10 = df_time_delta.sort_values('commentCount', ascending = False).head(10)\n",
    "df_top_10.reset_index(inplace = True)"
   ]
  },
  {
   "cell_type": "code",
   "execution_count": 93,
   "metadata": {},
   "outputs": [
    {
     "data": {
      "text/html": [
       "<div>\n",
       "<style scoped>\n",
       "    .dataframe tbody tr th:only-of-type {\n",
       "        vertical-align: middle;\n",
       "    }\n",
       "\n",
       "    .dataframe tbody tr th {\n",
       "        vertical-align: top;\n",
       "    }\n",
       "\n",
       "    .dataframe thead th {\n",
       "        text-align: right;\n",
       "    }\n",
       "</style>\n",
       "<table border=\"1\" class=\"dataframe\">\n",
       "  <thead>\n",
       "    <tr style=\"text-align: right;\">\n",
       "      <th></th>\n",
       "      <th>maxDelta</th>\n",
       "    </tr>\n",
       "  </thead>\n",
       "  <tbody>\n",
       "    <tr>\n",
       "      <th>0</th>\n",
       "      <td>2.705069</td>\n",
       "    </tr>\n",
       "    <tr>\n",
       "      <th>1</th>\n",
       "      <td>25.137303</td>\n",
       "    </tr>\n",
       "    <tr>\n",
       "      <th>2</th>\n",
       "      <td>588.664479</td>\n",
       "    </tr>\n",
       "    <tr>\n",
       "      <th>3</th>\n",
       "      <td>48.06287</td>\n",
       "    </tr>\n",
       "    <tr>\n",
       "      <th>4</th>\n",
       "      <td>1161.862083</td>\n",
       "    </tr>\n",
       "    <tr>\n",
       "      <th>5</th>\n",
       "      <td>18.748681</td>\n",
       "    </tr>\n",
       "    <tr>\n",
       "      <th>6</th>\n",
       "      <td>63.197315</td>\n",
       "    </tr>\n",
       "    <tr>\n",
       "      <th>7</th>\n",
       "      <td>6.13375</td>\n",
       "    </tr>\n",
       "    <tr>\n",
       "      <th>8</th>\n",
       "      <td>23.93309</td>\n",
       "    </tr>\n",
       "    <tr>\n",
       "      <th>9</th>\n",
       "      <td>479.958229</td>\n",
       "    </tr>\n",
       "  </tbody>\n",
       "</table>\n",
       "</div>"
      ],
      "text/plain": [
       "      maxDelta\n",
       "0     2.705069\n",
       "1    25.137303\n",
       "2   588.664479\n",
       "3     48.06287\n",
       "4  1161.862083\n",
       "5    18.748681\n",
       "6    63.197315\n",
       "7      6.13375\n",
       "8     23.93309\n",
       "9   479.958229"
      ]
     },
     "execution_count": 93,
     "metadata": {},
     "output_type": "execute_result"
    }
   ],
   "source": [
    "df_top_10[['maxDelta']]/86400   # 按天数计算"
   ]
  },
  {
   "cell_type": "markdown",
   "metadata": {},
   "source": [
    "发布评论最多的top10用户发布评论的时间间隔统计"
   ]
  },
  {
   "cell_type": "code",
   "execution_count": 123,
   "metadata": {},
   "outputs": [
    {
     "data": {
      "image/png": "[encoded data removed]",
      "text/plain": [
       "<Figure size 864x432 with 2 Axes>"
      ]
     },
     "metadata": {
      "needs_background": "light"
     },
     "output_type": "display_data"
    }
   ],
   "source": [
    "import matplotlib.pyplot as plt\n",
    "from matplotlib.backends.backend_pdf import PdfPages\n",
    "\n",
    "delta_min = df_top_10[['minDelta']]\n",
    "delta_max = df_top_10[['maxDelta']]/86400\n",
    "comment_count = df_top_10.commentCount.to_list()\n",
    "for i in range(len(comment_count)):\n",
    "    comment_count[i] = \"User_\" + str(i+1) + \" (\" + str(comment_count[i]) + \" comments)\"\n",
    "\n",
    "\n",
    "fig = plt.figure(figsize=(12, 6))\n",
    "ax1 = fig.add_subplot(111)\n",
    "# plt.figure(figsize=(12, 6)) \n",
    "ax1.plot(delta_min, marker=\"o\", color=\"blue\", label=\"Minimum time difference\", linestyle=\"--\")\n",
    "# ax1.set_xlabel('Top 10 user posting affiliate URLs')\n",
    "# plt.ylabel('Minimum time difference between two comments posted (second)')\n",
    "plt.xticks(range(len(delta_min)), comment_count, rotation = 30)\n",
    "ax1.set_ylabel('Minimum time difference between two comments posted (second)')\n",
    "\n",
    "ax2 = ax1.twinx()\n",
    "ax2.plot(delta_max, marker=\"x\", label = \"Maximum time difference\", color=\"red\", linestyle=\"--\")\n",
    "ax2.set_ylabel('Maximum time difference between two comments posted (day)')\n",
    "ax1.legend(loc='upper left')\n",
    "ax2.legend(loc='upper right')\n",
    "plt.savefig('./figs/youtube_top10_min_max_Delta.pdf', bbox_inches='tight')  # ***bbox_inches='tight'***防止x轴显示不全\n",
    "plt.show()"
   ]
  },
  {
   "cell_type": "markdown",
   "metadata": {},
   "source": [
    "发布评论最多的top20用户发布评论的时间间隔统计(单位为day)"
   ]
  },
  {
   "cell_type": "code",
   "execution_count": 124,
   "metadata": {},
   "outputs": [
    {
     "data": {
      "image/png": "[encoded data removed]",
      "text/plain": [
       "<Figure size 864x432 with 2 Axes>"
      ]
     },
     "metadata": {
      "needs_background": "light"
     },
     "output_type": "display_data"
    }
   ],
   "source": [
    "import matplotlib.pyplot as plt\n",
    "\n",
    "delta_min = df_top_20[['minDelta']]\n",
    "delta_max = df_top_20[['maxDelta']]/86400\n",
    "\n",
    "comment_count = df_top_20.commentCount.to_list()\n",
    "for i in range(len(comment_count)):\n",
    "    comment_count[i] = \"User_\" + str(i+1) + \" (\" + str(comment_count[i]) + \" comments)\"\n",
    "\n",
    "\n",
    "fig = plt.figure(figsize=(12, 6))\n",
    "ax1 = fig.add_subplot(111)\n",
    "# plt.figure(figsize=(12, 6)) \n",
    "ax1.plot(delta_min, marker=\"o\", color=\"blue\", label=\"Minimum time difference\", linestyle=\"--\")\n",
    "# ax1.set_xlabel('Top 20 user posting affiliate URLs')\n",
    "# plt.ylabel('Minimum time difference between two comments posted (second)')\n",
    "plt.xticks(range(len(delta_min)), comment_count, rotation = 90)\n",
    "ax1.set_ylabel('Minimum time difference between two comments posted (second)')\n",
    "\n",
    "ax2 = ax1.twinx()\n",
    "ax2.plot(delta_max, marker=\"x\", label = \"Maximum time difference\", color=\"red\", linestyle=\"--\")\n",
    "ax2.set_ylabel('Maximum time difference between two comments posted (day)')\n",
    "ax1.legend(loc='upper left')\n",
    "ax2.legend(loc='upper right')\n",
    "plt.savefig('./figs/youtube_top20_min_max_Delta.pdf', bbox_inches='tight') \n",
    "plt.show()"
   ]
  },
  {
   "cell_type": "code",
   "execution_count": 41,
   "metadata": {},
   "outputs": [],
   "source": [
    "df_time_delta.to_csv('./1010/youtube_time_difference.csv', index = False)"
   ]
  },
  {
   "cell_type": "code",
   "execution_count": null,
   "metadata": {},
   "outputs": [],
   "source": []
  },
  {
   "cell_type": "markdown",
   "metadata": {},
   "source": [
    "---"
   ]
  }
 ],
 "metadata": {
  "kernelspec": {
   "display_name": "Python 3.7.10 ('py37')",
   "language": "python",
   "name": "python3"
  },
  "language_info": {
   "codemirror_mode": {
    "name": "ipython",
    "version": 3
   },
   "file_extension": ".py",
   "mimetype": "text/x-python",
   "name": "python",
   "nbconvert_exporter": "python",
   "pygments_lexer": "ipython3",
   "version": "3.7.10"
  },
  "orig_nbformat": 4,
  "vscode": {
   "interpreter": {
    "hash": "1084607fb1ec85c20c00d1b5b4f2e0b7627b79be1f5395c4e028471685aafe8c"
   }
  }
 },
 "nbformat": 4,
 "nbformat_minor": 2
}
